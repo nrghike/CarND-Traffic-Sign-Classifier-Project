{
 "cells": [
  {
   "cell_type": "markdown",
   "metadata": {},
   "source": [
    "# Self-Driving Car Engineer Nanodegree\n",
    "\n",
    "## Deep Learning\n",
    "\n",
    "## Project: Build a Traffic Sign Recognition Classifier\n",
    "\n",
    "In this notebook, a template is provided for you to implement your functionality in stages, which is required to successfully complete this project. If additional code is required that cannot be included in the notebook, be sure that the Python code is successfully imported and included in your submission if necessary. \n",
    "\n",
    "> **Note**: Once you have completed all of the code implementations, you need to finalize your work by exporting the iPython Notebook as an HTML document. Before exporting the notebook to html, all of the code cells need to have been run so that reviewers can see the final implementation and output. You can then export the notebook by using the menu above and navigating to  \\n\",\n",
    "    \"**File -> Download as -> HTML (.html)**. Include the finished document along with this notebook as your submission. \n",
    "\n",
    "In addition to implementing code, there is a writeup to complete. The writeup should be completed in a separate file, which can be either a markdown file or a pdf document. There is a [write up template](https://github.com/udacity/CarND-Traffic-Sign-Classifier-Project/blob/master/writeup_template.md) that can be used to guide the writing process. Completing the code template and writeup template will cover all of the [rubric points](https://review.udacity.com/#!/rubrics/481/view) for this project.\n",
    "\n",
    "The [rubric](https://review.udacity.com/#!/rubrics/481/view) contains \"Stand Out Suggestions\" for enhancing the project beyond the minimum requirements. The stand out suggestions are optional. If you decide to pursue the \"stand out suggestions\", you can include the code in this Ipython notebook and also discuss the results in the writeup file.\n",
    "\n",
    "\n",
    ">**Note:** Code and Markdown cells can be executed using the **Shift + Enter** keyboard shortcut. In addition, Markdown cells can be edited by typically double-clicking the cell to enter edit mode."
   ]
  },
  {
   "cell_type": "markdown",
   "metadata": {},
   "source": [
    "---\n",
    "## Step 0: Load The Data"
   ]
  },
  {
   "cell_type": "code",
   "execution_count": 1,
   "metadata": {
    "collapsed": false
   },
   "outputs": [
    {
     "name": "stdout",
     "output_type": "stream",
     "text": [
      "X Train size: (39209, 32, 32, 3)\n",
      "Y Train size: (39209,)\n",
      "X Test size: (12630, 32, 32, 3)\n",
      "Y Test size: (12630,)\n"
     ]
    }
   ],
   "source": [
    "# Load pickled data\n",
    "import pickle\n",
    "\n",
    "# TODO: Fill this in based on where you saved the training and testing data\n",
    "\n",
    "training_file = '/home/udacity/share/traffic_sign_data/train.p'\n",
    "testing_file = '/home/udacity/share/traffic_sign_data/test.p'\n",
    "\n",
    "with open(training_file, mode='rb') as f:\n",
    "    train = pickle.load(f)\n",
    "with open(testing_file, mode='rb') as f:\n",
    "    test = pickle.load(f)\n",
    "    \n",
    "X_train, y_train = train['features'], train['labels']\n",
    "X_test, y_test = test['features'], test['labels']\n",
    "\n",
    "print(\"X Train size:\", X_train.shape)\n",
    "print(\"Y Train size:\", y_train.shape)\n",
    "print(\"X Test size:\", X_test.shape)\n",
    "print(\"Y Test size:\", y_test.shape)"
   ]
  },
  {
   "cell_type": "markdown",
   "metadata": {},
   "source": [
    "---\n",
    "\n",
    "## Step 1: Dataset Summary & Exploration\n",
    "\n",
    "The pickled data is a dictionary with 4 key/value pairs:\n",
    "\n",
    "- `'features'` is a 4D array containing raw pixel data of the traffic sign images, (num examples, width, height, channels).\n",
    "- `'labels'` is a 1D array containing the label/class id of the traffic sign. The file `signnames.csv` contains id -> name mappings for each id.\n",
    "- `'sizes'` is a list containing tuples, (width, height) representing the the original width and height the image.\n",
    "- `'coords'` is a list containing tuples, (x1, y1, x2, y2) representing coordinates of a bounding box around the sign in the image. **THESE COORDINATES ASSUME THE ORIGINAL IMAGE. THE PICKLED DATA CONTAINS RESIZED VERSIONS (32 by 32) OF THESE IMAGES**"
   ]
  },
  {
   "cell_type": "markdown",
   "metadata": {},
   "source": [
    "### Provide a Basic Summary of the Data Set Using Python, Numpy and/or Pandas"
   ]
  },
  {
   "cell_type": "code",
   "execution_count": 2,
   "metadata": {
    "collapsed": false
   },
   "outputs": [
    {
     "name": "stdout",
     "output_type": "stream",
     "text": [
      "Number of training examples = 39209\n",
      "Number of testing examples = 12630\n",
      "Image data shape = (32, 32, 3)\n",
      "Number of classes = 43\n"
     ]
    }
   ],
   "source": [
    "### Replace each question mark with the appropriate value. \n",
    "### Use python, pandas or numpy methods rather than hard coding the results\n",
    "import numpy as np\n",
    "\n",
    "# TODO: Number of training examples\n",
    "n_train = len(X_train)\n",
    "\n",
    "# TODO: Number of testing examples.\n",
    "n_test = len(X_test)\n",
    "\n",
    "# TODO: What's the shape of an traffic sign image?\n",
    "image_shape = X_train[0].shape\n",
    "\n",
    "# TODO: How many unique classes/labels there are in the dataset.\n",
    "n_classes = len(np.unique(y_train))\n",
    "\n",
    "print(\"Number of training examples =\", n_train)\n",
    "print(\"Number of testing examples =\", n_test)\n",
    "print(\"Image data shape =\", image_shape)\n",
    "print(\"Number of classes =\", n_classes)"
   ]
  },
  {
   "cell_type": "markdown",
   "metadata": {},
   "source": [
    "### Include an exploratory visualization of the dataset"
   ]
  },
  {
   "cell_type": "code",
   "execution_count": 3,
   "metadata": {
    "collapsed": false
   },
   "outputs": [
    {
     "data": {
      "image/png": "[encoded data removed]",
      "text/plain": [
       "<matplotlib.figure.Figure at 0x7f587476e4e0>"
      ]
     },
     "metadata": {},
     "output_type": "display_data"
    }
   ],
   "source": [
    "### Data exploration visualization goes here.\n",
    "### Feel free to use as many code cells as needed.\n",
    "import matplotlib.pyplot as plt\n",
    "import random\n",
    "# Visualizations will be shown in the notebook.\n",
    "%matplotlib inline\n",
    "\n",
    "# show image of 10 random data points\n",
    "fig, axs = plt.subplots(2,2, figsize=(15, 6))\n",
    "fig.subplots_adjust(hspace = .2, wspace=.001)\n",
    "axs = axs.ravel()\n",
    "for i in range(4):\n",
    "    index = random.randint(0, len(X_train))\n",
    "    image = X_train[index]\n",
    "    axs[i].axis('off')\n",
    "    axs[i].imshow(image)\n",
    "    axs[i].set_title(y_train[index])"
   ]
  },
  {
   "cell_type": "code",
   "execution_count": 4,
   "metadata": {
    "collapsed": false
   },
   "outputs": [
    {
     "data": {
      "text/plain": [
       "[]"
      ]
     },
     "execution_count": 4,
     "metadata": {},
     "output_type": "execute_result"
    },
    {
     "data": {
      "image/png": "[encoded data removed]",
      "text/plain": [
       "<matplotlib.figure.Figure at 0x7f5874765470>"
      ]
     },
     "metadata": {},
     "output_type": "display_data"
    }
   ],
   "source": [
    "# Plot a histogram of the count of the number of examples of each sign\n",
    "# in the test set\n",
    "\n",
    "plt.hist(y_train, bins=n_classes)\n",
    "plt.title('Number of examples of each sign in the training set')\n",
    "plt.xlabel('Sign')\n",
    "plt.ylabel('Count')\n",
    "plt.plot()"
   ]
  },
  {
   "cell_type": "markdown",
   "metadata": {},
   "source": [
    "----\n",
    "\n",
    "## Step 2: Design and Test a Model Architecture\n",
    "\n",
    "Design and implement a deep learning model that learns to recognize traffic signs. Train and test your model on the [German Traffic Sign Dataset](http://benchmark.ini.rub.de/?section=gtsrb&subsection=dataset).\n",
    "\n",
    "There are various aspects to consider when thinking about this problem:\n",
    "\n",
    "- Neural network architecture\n",
    "- Play around preprocessing techniques (normalization, rgb to grayscale, etc)\n",
    "- Number of examples per label (some have more than others).\n",
    "- Generate fake data.\n",
    "\n",
    "Here is an example of a [published baseline model on this problem](http://yann.lecun.com/exdb/publis/pdf/sermanet-ijcnn-11.pdf). It's not required to be familiar with the approach used in the paper but, it's good practice to try to read papers like these.\n",
    "\n",
    "**NOTE:** The LeNet-5 implementation shown in the [classroom](https://classroom.udacity.com/nanodegrees/nd013/parts/fbf77062-5703-404e-b60c-95b78b2f3f9e/modules/6df7ae49-c61c-4bb2-a23e-6527e69209ec/lessons/601ae704-1035-4287-8b11-e2c2716217ad/concepts/d4aca031-508f-4e0b-b493-e7b706120f81) at the end of the CNN lesson is a solid starting point. You'll have to change the number of classes and possibly the preprocessing, but aside from that it's plug and play!"
   ]
  },
  {
   "cell_type": "markdown",
   "metadata": {},
   "source": [
    "### Pre-process the Data Set (normalization, grayscale, etc.)"
   ]
  },
  {
   "cell_type": "markdown",
   "metadata": {},
   "source": [
    "Use the code cell (or multiple code cells, if necessary) to implement the first step of your project."
   ]
  },
  {
   "cell_type": "code",
   "execution_count": 5,
   "metadata": {
    "collapsed": false
   },
   "outputs": [
    {
     "data": {
      "image/png": "[encoded data removed]",
      "text/plain": [
       "<matplotlib.figure.Figure at 0x7f5858798e80>"
      ]
     },
     "metadata": {},
     "output_type": "display_data"
    }
   ],
   "source": [
    "# Shuffle training examples\n",
    "from sklearn.utils import shuffle\n",
    "X_train, y_train = shuffle(X_train, y_train, random_state=42)\n",
    "\n",
    "X_train_orig = X_train\n",
    "X_test_orig = X_test\n",
    "\n",
    "# Normalise input (images still in colour)\n",
    "X_train = (X_train - X_train.mean()) / (np.max(X_train) - np.min(X_train))\n",
    "X_test = (X_test - X_test.mean()) / (np.max(X_test) - np.min(X_test))\n",
    "\n",
    "def plot_norm_image(image_index):\n",
    "    \"\"\"Plots original image on the left and normalised image on the right.\"\"\"\n",
    "    plt.subplot(2,2,1)\n",
    "    plt.imshow(X_train_orig[image_index])\n",
    "    plt.subplot(2,2,2)\n",
    "    plt.imshow(X_train[image_index])\n",
    "    \n",
    "    \n",
    "plot_norm_image(20)\n",
    "\n",
    "from sklearn.model_selection import train_test_split\n",
    "X_train, X_val, y_train, y_val = train_test_split(X_train, y_train,\n",
    "                                                  test_size=0.2,\n",
    "                                                  random_state=42)"
   ]
  },
  {
   "cell_type": "code",
   "execution_count": 6,
   "metadata": {
    "collapsed": false
   },
   "outputs": [
    {
     "data": {
      "text/plain": [
       "\"### Preprocess the data here.\\n### Feel free to use as many code cells as needed.\\n\\n# Convert to grayscale\\nX_train_rgb = X_train\\nX_train_gry = np.sum(X_train/3, axis=3, keepdims=True)\\n\\nX_test_rgb = X_test\\nX_test_gry = np.sum(X_test/3, axis=3, keepdims=True)\\n\\nprint('RGB shape:', X_train_rgb.shape)\\nprint('Grayscale shape:', X_train_gry.shape)\""
      ]
     },
     "execution_count": 6,
     "metadata": {},
     "output_type": "execute_result"
    }
   ],
   "source": [
    "\"\"\"### Preprocess the data here.\n",
    "### Feel free to use as many code cells as needed.\n",
    "\n",
    "# Convert to grayscale\n",
    "X_train_rgb = X_train\n",
    "X_train_gry = np.sum(X_train/3, axis=3, keepdims=True)\n",
    "\n",
    "X_test_rgb = X_test\n",
    "X_test_gry = np.sum(X_test/3, axis=3, keepdims=True)\n",
    "\n",
    "print('RGB shape:', X_train_rgb.shape)\n",
    "print('Grayscale shape:', X_train_gry.shape)\"\"\""
   ]
  },
  {
   "cell_type": "code",
   "execution_count": 7,
   "metadata": {
    "collapsed": false
   },
   "outputs": [
    {
     "data": {
      "text/plain": [
       "\"X_train = X_train_gry\\nX_test = X_test_gry\\n\\nprint('done')\""
      ]
     },
     "execution_count": 7,
     "metadata": {},
     "output_type": "execute_result"
    }
   ],
   "source": [
    "\"\"\"X_train = X_train_gry\n",
    "X_test = X_test_gry\n",
    "\n",
    "print('done')\"\"\""
   ]
  },
  {
   "cell_type": "code",
   "execution_count": 8,
   "metadata": {
    "collapsed": false
   },
   "outputs": [
    {
     "data": {
      "text/plain": [
       "\"# Visualize rgb vs grayscale\\nn_rows = 8\\nn_cols = 10\\noffset = 9000\\nfig, axs = plt.subplots(n_rows,n_cols, figsize=(18, 14))\\nfig.subplots_adjust(hspace = .1, wspace=.001)\\naxs = axs.ravel()\\nfor j in range(0,n_rows,2):\\n    for i in range(n_cols):\\n        index = i + j*n_cols\\n        image = X_train_rgb[index + offset]\\n        axs[index].axis('off')\\n        axs[index].imshow(image)\\n    for i in range(n_cols):\\n        index = i + j*n_cols + n_cols \\n        image = X_train_gry[index + offset - n_cols].squeeze()\\n        axs[index].axis('off')\\n        axs[index].imshow(image, cmap='gray')\""
      ]
     },
     "execution_count": 8,
     "metadata": {},
     "output_type": "execute_result"
    }
   ],
   "source": [
    "\"\"\"# Visualize rgb vs grayscale\n",
    "n_rows = 8\n",
    "n_cols = 10\n",
    "offset = 9000\n",
    "fig, axs = plt.subplots(n_rows,n_cols, figsize=(18, 14))\n",
    "fig.subplots_adjust(hspace = .1, wspace=.001)\n",
    "axs = axs.ravel()\n",
    "for j in range(0,n_rows,2):\n",
    "    for i in range(n_cols):\n",
    "        index = i + j*n_cols\n",
    "        image = X_train_rgb[index + offset]\n",
    "        axs[index].axis('off')\n",
    "        axs[index].imshow(image)\n",
    "    for i in range(n_cols):\n",
    "        index = i + j*n_cols + n_cols \n",
    "        image = X_train_gry[index + offset - n_cols].squeeze()\n",
    "        axs[index].axis('off')\n",
    "        axs[index].imshow(image, cmap='gray')\"\"\""
   ]
  },
  {
   "cell_type": "code",
   "execution_count": 9,
   "metadata": {
    "collapsed": false
   },
   "outputs": [
    {
     "data": {
      "text/plain": [
       "'## Normalize the train and test datasets to (-1,1)\\n\\nX_train_normalized = (X_train - 128)/128 \\nX_test_normalized = (X_test - 128)/128\\n\\nprint(np.mean(X_train_normalized))\\nprint(np.mean(X_test_normalized))'"
      ]
     },
     "execution_count": 9,
     "metadata": {},
     "output_type": "execute_result"
    }
   ],
   "source": [
    "\"\"\"## Normalize the train and test datasets to (-1,1)\n",
    "\n",
    "X_train_normalized = (X_train - 128)/128 \n",
    "X_test_normalized = (X_test - 128)/128\n",
    "\n",
    "print(np.mean(X_train_normalized))\n",
    "print(np.mean(X_test_normalized))\"\"\""
   ]
  },
  {
   "cell_type": "code",
   "execution_count": 10,
   "metadata": {
    "collapsed": false
   },
   "outputs": [
    {
     "data": {
      "text/plain": [
       "'print(\"Original shape:\", X_train.shape)\\nprint(\"Normalized shape:\", X_train_normalized.shape)\\nfig, axs = plt.subplots(1,2, figsize=(10, 3))\\naxs = axs.ravel()\\n\\naxs[0].axis(\\'off\\')\\naxs[0].set_title(\\'normalized\\')\\naxs[0].imshow(X_train_normalized[0].squeeze(), cmap=\\'gray\\')\\n\\naxs[1].axis(\\'off\\')\\naxs[1].set_title(\\'original\\')\\naxs[1].imshow(X_train[0].squeeze(), cmap=\\'gray\\')'"
      ]
     },
     "execution_count": 10,
     "metadata": {},
     "output_type": "execute_result"
    }
   ],
   "source": [
    "\"\"\"print(\"Original shape:\", X_train.shape)\n",
    "print(\"Normalized shape:\", X_train_normalized.shape)\n",
    "fig, axs = plt.subplots(1,2, figsize=(10, 3))\n",
    "axs = axs.ravel()\n",
    "\n",
    "axs[0].axis('off')\n",
    "axs[0].set_title('normalized')\n",
    "axs[0].imshow(X_train_normalized[0].squeeze(), cmap='gray')\n",
    "\n",
    "axs[1].axis('off')\n",
    "axs[1].set_title('original')\n",
    "axs[1].imshow(X_train[0].squeeze(), cmap='gray')\"\"\""
   ]
  },
  {
   "cell_type": "markdown",
   "metadata": {},
   "source": [
    "### Split Data into Training, Validation and Testing Sets"
   ]
  },
  {
   "cell_type": "code",
   "execution_count": 11,
   "metadata": {
    "collapsed": false
   },
   "outputs": [
    {
     "data": {
      "text/plain": [
       "'### Split the data into training/validation/testing sets here.\\n### Feel free to use as many code cells as needed.\\n\\n## Shuffle the training dataset\\n\\nfrom sklearn.utils import shuffle\\n\\nX_train_normalized, y_train = shuffle(X_train_normalized, y_train)\\n\\nprint(\\'done shuffling dataset\\')\\n\\n## Split validation dataset off from training dataset\\n\\nfrom sklearn.model_selection import train_test_split\\n\\nX_train, X_validation, y_train, y_validation = train_test_split(X_train_normalized, y_train, \\n                                                                test_size=0.20, random_state=42)\\n\\nprint(\"Old X_train size:\",len(X_train_normalized))\\nprint(\"New X_train size:\",len(X_train))\\nprint(\"X_validation size:\",len(X_validation))'"
      ]
     },
     "execution_count": 11,
     "metadata": {},
     "output_type": "execute_result"
    }
   ],
   "source": [
    "\"\"\"### Split the data into training/validation/testing sets here.\n",
    "### Feel free to use as many code cells as needed.\n",
    "\n",
    "## Shuffle the training dataset\n",
    "\n",
    "from sklearn.utils import shuffle\n",
    "\n",
    "X_train_normalized, y_train = shuffle(X_train_normalized, y_train)\n",
    "\n",
    "print('done shuffling dataset')\n",
    "\n",
    "## Split validation dataset off from training dataset\n",
    "\n",
    "from sklearn.model_selection import train_test_split\n",
    "\n",
    "X_train, X_validation, y_train, y_validation = train_test_split(X_train_normalized, y_train, \n",
    "                                                                test_size=0.20, random_state=42)\n",
    "\n",
    "print(\"Old X_train size:\",len(X_train_normalized))\n",
    "print(\"New X_train size:\",len(X_train))\n",
    "print(\"X_validation size:\",len(X_validation))\"\"\""
   ]
  },
  {
   "cell_type": "markdown",
   "metadata": {},
   "source": [
    "### Model Architecture"
   ]
  },
  {
   "cell_type": "code",
   "execution_count": 12,
   "metadata": {
    "collapsed": true
   },
   "outputs": [],
   "source": [
    "### Define your architecture here.\n",
    "### Feel free to use as many code cells as needed.\n",
    "import tensorflow as tf\n",
    "import time\n",
    "import pandas as pd\n",
    "# Network parameters\n",
    "n_input = 32 * 32 * 3\n",
    "nb_filters = 32\n",
    "kernel_size = (3, 3)\n",
    "input_shape = (32, 32, 3)\n",
    "n_fc1 = 512\n",
    "n_fc2 = 128\n",
    "in_channels = 3\n",
    "pool_size = 2 # i.e. (2,2)\n",
    "\n",
    "dropout_conv = 0.9\n",
    "dropout_fc = 0.9\n",
    "\n",
    "weights_stddev = 0.1\n",
    "weights_mean = 0.0\n",
    "biases_mean = 0.0\n",
    "\n",
    "padding = 'VALID'\n",
    "if padding == 'SAME':\n",
    "    conv_output_length = 6\n",
    "elif padding == 'VALID':\n",
    "    conv_output_length = 5\n",
    "else:\n",
    "    raiseException(\"Unknown padding.\")"
   ]
  },
  {
   "cell_type": "code",
   "execution_count": 13,
   "metadata": {
    "collapsed": false
   },
   "outputs": [],
   "source": [
    "# tf Graph input\n",
    "x_unflattened = tf.placeholder(\"float\", [None, 32, 32, 3])\n",
    "x = x_unflattened\n",
    "\n",
    "y_rawlabels = tf.placeholder(\"int32\", [None])\n",
    "y = tf.one_hot(y_rawlabels, depth=43, on_value=1., off_value=0., axis=-1)"
   ]
  },
  {
   "cell_type": "code",
   "execution_count": 14,
   "metadata": {
    "collapsed": true
   },
   "outputs": [],
   "source": [
    "## Create model\n",
    "\n",
    "def conv2d(x, W, b, strides=3):\n",
    "    \"\"\"Conv2D wrapper, with bias and relu activation\"\"\"\n",
    "    # strides = [batch, in_height, in_width, channels]\n",
    "    x = tf.nn.conv2d(x, W, strides=[1, strides, strides, 1], padding='SAME')\n",
    "    x = tf.nn.bias_add(x, b)\n",
    "    return tf.nn.relu(x)\n",
    "\n",
    "\n",
    "def maxpool2d(x, k=2, padding_setting='SAME'):\n",
    "    \"\"\"MaxPool2D wrapper.\"\"\"\n",
    "    return tf.nn.max_pool(x, ksize=[1, k, k, 1], strides=[1, k, k, 1],\n",
    "                          padding=padding_setting)\n",
    "\n",
    "def conv_net(model_x, model_weights, model_biases, model_pool_size, \n",
    "             model_dropout_conv, model_dropout_fc, padding='SAME'):\n",
    "    \"\"\"Convolutional neural network model.\"\"\"\n",
    "    # Convolution Layer 1\n",
    "    conv1 = conv2d(model_x, model_weights['conv1'], model_biases['conv1'])\n",
    "    # Max Pooling (down-sampling)\n",
    "    conv1 = maxpool2d(conv1, k=model_pool_size, padding_setting=padding)\n",
    "    conv1 = tf.nn.dropout(conv1, model_dropout_conv)\n",
    "\n",
    "    # Fully connected layer 1\n",
    "    # Reshape conv1 output to fit fully connected layer input\n",
    "    conv1_shape = conv1.get_shape().as_list()\n",
    "    fc1 = tf.reshape(conv1, [-1, conv1_shape[1]*conv1_shape[2]*conv1_shape[3]])\n",
    "    fc1 = tf.add(tf.matmul(fc1, model_weights['fc1']), model_biases['fc1'])\n",
    "    fc1 = tf.nn.relu(fc1)\n",
    "    fc1 = tf.nn.dropout(fc1, model_dropout_fc)\n",
    "    # Fully connected layer 2\n",
    "    fc2 = tf.add(tf.matmul(fc1, model_weights['fc2']), model_biases['fc2'])\n",
    "    fc2 = tf.nn.relu(fc2)\n",
    "    fc2 = tf.nn.dropout(fc2, model_dropout_fc)\n",
    "    # Output layer\n",
    "    output = tf.add(tf.matmul(fc2, model_weights['out']), model_biases['out'])\n",
    "    # Note: Softmax is outside the model\n",
    "    return output\n",
    "\n",
    "\n",
    "## Store layers weight & bias\n",
    "\n",
    "# NEW: initialise neurons with slightly positive initial bias\n",
    "# to avoid dead neurons.\n",
    "def weight_variable(shape, weight_mean, weight_stddev):\n",
    "    initial = tf.truncated_normal(shape, stddev=weight_stddev, mean=weight_mean)\n",
    "    # alt: tf.random_normal(shape)\n",
    "    return tf.Variable(initial)\n",
    "\n",
    "\n",
    "def bias_variable(shape, bias_mean):\n",
    "    initial = tf.constant(bias_mean, shape=shape)\n",
    "    return tf.Variable(initial)\n",
    "\n",
    "\n",
    "weights = {\n",
    "    'conv1': weight_variable([kernel_size[0], kernel_size[1], in_channels, nb_filters], weights_mean, weights_stddev),\n",
    "    'fc1': weight_variable([nb_filters * conv_output_length**2, n_fc1], weights_mean, weights_stddev),\n",
    "    'fc2': weight_variable([n_fc1, n_fc2], weights_mean, weights_stddev),\n",
    "    'out': weight_variable([n_fc2, n_classes], weights_mean, weights_stddev)\n",
    "}\n",
    "\n",
    "biases = {\n",
    "    'conv1': bias_variable([nb_filters], biases_mean),\n",
    "    'fc1': bias_variable([n_fc1], biases_mean),\n",
    "    'fc2': bias_variable([n_fc2], biases_mean),\n",
    "    'out': bias_variable([n_classes], biases_mean)\n",
    "}"
   ]
  },
  {
   "cell_type": "markdown",
   "metadata": {},
   "source": [
    "### Train, Validate and Test the Model"
   ]
  },
  {
   "cell_type": "markdown",
   "metadata": {},
   "source": [
    "A validation set can be used to assess how well the model is performing. A low accuracy on the training and validation\n",
    "sets imply underfitting. A high accuracy on the test set but low accuracy on the validation set implies overfitting."
   ]
  },
  {
   "cell_type": "code",
   "execution_count": 15,
   "metadata": {
    "collapsed": false
   },
   "outputs": [
    {
     "name": "stdout",
     "output_type": "stream",
     "text": [
      "WARNING:tensorflow:From <ipython-input-15-71f873cdc3e0>:24 in <module>.: initialize_all_variables (from tensorflow.python.ops.variables) is deprecated and will be removed after 2017-03-02.\n",
      "Instructions for updating:\n",
      "Use `tf.global_variables_initializer` instead.\n",
      "Epoch: 0001 cost= 2.059318108\n",
      "Accuracy (validation): 0.594364\n",
      "Epoch: 0002 cost= 1.009866922\n",
      "Accuracy (validation): 0.719077\n",
      "Epoch: 0003 cost= 0.708373695\n",
      "Accuracy (validation): 0.772507\n",
      "Epoch: 0004 cost= 0.549009775\n",
      "Accuracy (validation): 0.820964\n",
      "Epoch: 0005 cost= 0.454576294\n",
      "Five epoch moving average:  0.0\n",
      "Accuracy (validation): 0.845575\n",
      "Epoch: 0006 cost= 0.376946959\n",
      "Five epoch moving average:  0.750497341156\n",
      "Accuracy (validation): 0.866998\n",
      "Epoch: 0007 cost= 0.314846010\n",
      "Five epoch moving average:  0.805024242401\n",
      "Accuracy (validation): 0.87618\n",
      "Epoch: 0008 cost= 0.277755080\n",
      "Five epoch moving average:  0.836444759369\n",
      "Accuracy (validation): 0.883448\n",
      "Epoch: 0009 cost= 0.244201550\n",
      "Five epoch moving average:  0.858633041382\n",
      "Accuracy (validation): 0.89467\n",
      "Epoch: 0010 cost= 0.214829129\n",
      "Five epoch moving average:  0.873374080658\n",
      "Accuracy (validation): 0.899515\n",
      "Epoch: 0011 cost= 0.190527900\n",
      "Five epoch moving average:  0.88416223526\n",
      "Accuracy (validation): 0.912522\n",
      "Epoch: 0012 cost= 0.175561296\n",
      "Five epoch moving average:  0.893267059326\n",
      "Accuracy (validation): 0.918898\n",
      "Epoch: 0013 cost= 0.154486692\n",
      "Five epoch moving average:  0.901810741425\n",
      "Accuracy (validation): 0.923871\n",
      "Epoch: 0014 cost= 0.138981163\n",
      "Five epoch moving average:  0.909895420074\n",
      "Accuracy (validation): 0.924509\n",
      "Epoch: 0015 cost= 0.124649804\n",
      "New learning rate:  0.001\n",
      "Five epoch moving average:  0.915863323212\n",
      "Accuracy (validation): 0.93012\n",
      "Epoch: 0016 cost= 0.118331456\n",
      "Five epoch moving average:  0.921984195709\n",
      "Accuracy (validation): 0.929227\n",
      "Epoch: 0017 cost= 0.107379945\n",
      "Five epoch moving average:  0.925325202942\n",
      "Accuracy (validation): 0.92808\n",
      "Epoch: 0018 cost= 0.101604944\n",
      "Five epoch moving average:  0.927161502838\n",
      "Accuracy (validation): 0.940449\n",
      "Epoch: 0019 cost= 0.094677148\n",
      "Five epoch moving average:  0.930476951599\n",
      "Accuracy (validation): 0.940449\n",
      "Epoch: 0020 cost= 0.087008949\n",
      "Five epoch moving average:  0.933664894104\n",
      "Accuracy (validation): 0.943764\n",
      "Epoch: 0021 cost= 0.082804968\n",
      "Five epoch moving average:  0.936393737793\n",
      "Accuracy (validation): 0.941852\n",
      "Epoch: 0022 cost= 0.077185254\n",
      "Five epoch moving average:  0.938918590546\n",
      "Accuracy (validation): 0.941724\n",
      "Epoch: 0023 cost= 0.074100196\n",
      "Five epoch moving average:  0.941647529602\n",
      "Accuracy (validation): 0.941979\n",
      "Epoch: 0024 cost= 0.071769888\n",
      "Five epoch moving average:  0.94195356369\n",
      "Accuracy (validation): 0.94861\n",
      "Epoch: 0025 cost= 0.071023607\n",
      "Five epoch moving average:  0.943585777283\n",
      "Accuracy (validation): 0.95065\n",
      "Epoch: 0026 cost= 0.063070236\n",
      "Five epoch moving average:  0.94496307373\n",
      "Accuracy (validation): 0.949758\n",
      "Epoch: 0027 cost= 0.059991386\n",
      "Five epoch moving average:  0.946544265747\n",
      "Accuracy (validation): 0.947845\n",
      "Epoch: 0028 cost= 0.061141857\n",
      "Five epoch moving average:  0.9477684021\n",
      "Accuracy (validation): 0.952181\n",
      "Epoch: 0029 cost= 0.053986996\n",
      "Five epoch moving average:  0.949808692932\n",
      "Accuracy (validation): 0.955624\n",
      "Epoch: 0030 cost= 0.053146903\n",
      "New learning rate:  0.001\n",
      "Five epoch moving average:  0.951211452484\n",
      "Accuracy (validation): 0.94657\n",
      "Epoch: 0031 cost= 0.052340085\n",
      "Five epoch moving average:  0.950395298004\n",
      "Accuracy (validation): 0.955624\n",
      "Epoch: 0032 cost= 0.048306690\n",
      "Five epoch moving average:  0.951568412781\n",
      "Accuracy (validation): 0.956516\n",
      "Epoch: 0033 cost= 0.052793823\n",
      "Five epoch moving average:  0.953302764893\n",
      "Accuracy (validation): 0.950523\n",
      "Epoch: 0034 cost= 0.046871173\n",
      "Five epoch moving average:  0.952971172333\n",
      "Accuracy (validation): 0.957154\n",
      "Epoch: 0035 cost= 0.045006537\n",
      "Five epoch moving average:  0.953277206421\n",
      "Accuracy (validation): 0.958812\n",
      "Epoch: 0036 cost= 0.043414593\n",
      "Five epoch moving average:  0.955725574493\n",
      "Accuracy (validation): 0.953966\n",
      "Epoch: 0037 cost= 0.042276040\n",
      "Five epoch moving average:  0.955394077301\n",
      "Accuracy (validation): 0.95116\n",
      "Epoch: 0038 cost= 0.038989097\n",
      "Five epoch moving average:  0.954322910309\n",
      "Accuracy (validation): 0.957281\n",
      "Epoch: 0039 cost= 0.039620281\n",
      "Five epoch moving average:  0.955674552917\n",
      "Accuracy (validation): 0.958812\n",
      "Epoch: 0040 cost= 0.039248467\n",
      "Five epoch moving average:  0.956006145477\n",
      "Accuracy (validation): 0.957154\n",
      "Epoch: 0041 cost= 0.036031992\n",
      "Five epoch moving average:  0.955674552917\n",
      "Accuracy (validation): 0.954093\n",
      "Epoch: 0042 cost= 0.036029120\n",
      "Five epoch moving average:  0.955700111389\n",
      "Accuracy (validation): 0.961872\n",
      "Epoch: 0043 cost= 0.038842629\n",
      "Five epoch moving average:  0.957842445374\n",
      "Accuracy (validation): 0.955879\n",
      "Epoch: 0044 cost= 0.037524458\n",
      "Five epoch moving average:  0.95756187439\n",
      "Accuracy (validation): 0.958556\n",
      "Epoch: 0045 cost= 0.033909199\n",
      "New learning rate:  0.001\n",
      "Five epoch moving average:  0.957510852814\n",
      "Accuracy (validation): 0.953966\n",
      "Epoch: 0046 cost= 0.034267408\n",
      "Five epoch moving average:  0.956873226166\n",
      "Accuracy (validation): 0.952818\n",
      "Epoch: 0047 cost= 0.041950366\n",
      "Five epoch moving average:  0.956618213654\n",
      "Accuracy (validation): 0.956261\n",
      "Epoch: 0048 cost= 0.031480428\n",
      "Five epoch moving average:  0.955496025085\n",
      "Accuracy (validation): 0.96251\n",
      "Epoch: 0049 cost= 0.031175436\n",
      "Five epoch moving average:  0.95682220459\n",
      "Accuracy (validation): 0.961362\n",
      "Epoch: 0050 cost= 0.029731429\n",
      "Five epoch moving average:  0.957383346558\n",
      "Accuracy (validation): 0.960852\n",
      "Epoch: 0051 cost= 0.034906301\n",
      "Five epoch moving average:  0.958760547638\n",
      "Accuracy (validation): 0.960852\n",
      "Epoch: 0052 cost= 0.038369556\n",
      "Five epoch moving average:  0.960367298126\n",
      "Accuracy (validation): 0.960469\n",
      "Optimization Finished!\n",
      "Accuracy (test): 0.781789\n",
      "Time to calculate accuracy on test set:  1.4501628875732422\n",
      "\n",
      "Parameters:\n",
      "Learning rate (initial):  0.001\n",
      "Anneal learning rate every  15  epochs by  0\n",
      "Learning rate (final):  0.001\n",
      "Training epochs:  150\n",
      "Batch size:  100\n",
      "Dropout (conv):  0.9\n",
      "Dropout (fc):  0.9\n",
      "Padding:  VALID\n",
      "weights_mean:  0.0\n",
      "weights_stddev:  0.1\n",
      "biases_mean:  0.0\n"
     ]
    }
   ],
   "source": [
    "# Training parameters\n",
    "learning_rate = 0.001\n",
    "initial_learning_rate = learning_rate\n",
    "training_epochs = 150\n",
    "batch_size = 100\n",
    "display_step = 1\n",
    "n_train = len(X_train)\n",
    "\n",
    "anneal_mod_frequency = 15\n",
    "# Annealing rate of 1: learning rate remains constant.\n",
    "annealing_rate = 1\n",
    "\n",
    "print_accuracy_mod_frequency = 1\n",
    "\n",
    "# Construct model\n",
    "pred = conv_net(x, weights, biases, pool_size, dropout_conv, dropout_fc, padding=padding)\n",
    "pred_probs = tf.nn.softmax(pred)\n",
    "\n",
    "# Define loss and optimizer\n",
    "cost = tf.reduce_mean(tf.nn.softmax_cross_entropy_with_logits(pred, y))\n",
    "optimizer = tf.train.AdamOptimizer(learning_rate=learning_rate).minimize(cost)\n",
    "\n",
    "# Function to initialise the variables\n",
    "init = tf.initialize_all_variables()\n",
    "\n",
    "### RUN MODEL ###\n",
    "# Launch the graph\n",
    "sess = tf.Session()\n",
    "\n",
    "# Initialise variables\n",
    "sess.run(init)\n",
    "\n",
    "# Initialise time logs\n",
    "init_time = time.time()\n",
    "epoch_time = init_time\n",
    "\n",
    "five_epoch_moving_average = 0.\n",
    "epoch_accuracies = []\n",
    "\n",
    "# Training cycle\n",
    "for epoch in range(training_epochs):\n",
    "    if five_epoch_moving_average > 0.96:\n",
    "        break\n",
    "        \n",
    "    avg_cost = 0.\n",
    "\n",
    "    total_batch = int(n_train / batch_size)\n",
    "    # Loop over all batches\n",
    "    for i in range(total_batch):\n",
    "        batch_x, batch_y = np.array(X_train[i * batch_size:(i + 1) * batch_size]), \\\n",
    "                           np.array(y_train[i * batch_size:(i + 1) * batch_size])\n",
    "        # tf.train.batch([X_train, y_train], batch_size=100, enqueue_many=True)\n",
    "        \n",
    "        # Run optimization op (backprop) and cost op (to get loss value)\n",
    "        _, c = sess.run([optimizer, cost], feed_dict={x_unflattened: batch_x, y_rawlabels: batch_y})\n",
    "        # Compute average loss\n",
    "        avg_cost += c / total_batch\n",
    "        # print(avg_cost)\n",
    "    # Display logs per epoch step\n",
    "    if epoch % display_step == 0:\n",
    "        print(\"Epoch:\", '%04d' % (epoch + 1), \"cost=\",\n",
    "              \"{:.9f}\".format(avg_cost))\n",
    "        last_epoch_time = epoch_time\n",
    "        epoch_time = time.time()\n",
    "        # print(\"Time since last epoch: \", epoch_time - last_epoch_time)\n",
    "    # Anneal learning rate\n",
    "    if (epoch + 1) % anneal_mod_frequency == 0:\n",
    "        learning_rate *= annealing_rate\n",
    "        print(\"New learning rate: \", learning_rate)\n",
    "\n",
    "    if (epoch + 1) % print_accuracy_mod_frequency == 0:\n",
    "        correct_prediction = tf.equal(tf.argmax(pred, 1), tf.argmax(y, 1))\n",
    "        accuracy = tf.reduce_mean(tf.cast(correct_prediction, \"float\"))\n",
    "        # Line below needed only when not using `with tf.Session() as sess`\n",
    "        with sess.as_default():\n",
    "            epoch_accuracy = accuracy.eval({x_unflattened: X_val, y_rawlabels: y_val})\n",
    "            # TODO: optimise five_epoch_moving_average, e.g. using a queue            \n",
    "            epoch_accuracies.append(epoch_accuracy)\n",
    "            if epoch >= 4:\n",
    "                five_epoch_moving_average = np.sum(epoch_accuracies[epoch-5:epoch]) / 5\n",
    "                print(\"Five epoch moving average: \", five_epoch_moving_average)\n",
    "            print(\"Accuracy (validation):\", epoch_accuracy)\n",
    "\n",
    "print(\"Optimization Finished!\")\n",
    "\n",
    "# Test model\n",
    "correct_prediction = tf.equal(tf.argmax(pred, 1), tf.argmax(y, 1))\n",
    "# Calculate accuracy\n",
    "# accuracy_train = tf.reduce_mean(tf.cast(correct_prediction, \"float\"))\n",
    "# print(\"Accuracy (train):\", accuracy_train.eval({x_unflattened: X_train, y_rawlabels: y_train}))\n",
    "train_predict_time = time.time()\n",
    "# print(\"Time to calculate accuracy on training set: \", train_predict_time - epoch_time)\n",
    "accuracy = tf.reduce_mean(tf.cast(correct_prediction, \"float\"))\n",
    "# Line below needed only when not using `with tf.Session() as sess`\n",
    "with sess.as_default():\n",
    "    print(\"Accuracy (test):\", accuracy.eval({x_unflattened: X_test, y_rawlabels: y_test}))\n",
    "test_predict_time = time.time()\n",
    "print(\"Time to calculate accuracy on test set: \", test_predict_time - train_predict_time)\n",
    "\n",
    "# Print parameters for reference\n",
    "print(\"\\nParameters:\")\n",
    "print(\"Learning rate (initial): \", initial_learning_rate)\n",
    "print(\"Anneal learning rate every \", anneal_mod_frequency, \" epochs by \", 1 - annealing_rate)\n",
    "print(\"Learning rate (final): \", learning_rate)\n",
    "print(\"Training epochs: \", training_epochs)\n",
    "print(\"Batch size: \", batch_size)\n",
    "print(\"Dropout (conv): \", dropout_conv)\n",
    "print(\"Dropout (fc): \", dropout_fc)\n",
    "print(\"Padding: \", padding)\n",
    "print(\"weights_mean: \", weights_mean)\n",
    "print(\"weights_stddev: \", weights_stddev)\n",
    "print(\"biases_mean: \", biases_mean)"
   ]
  },
  {
   "cell_type": "markdown",
   "metadata": {},
   "source": [
    "---\n",
    "\n",
    "## Step 3: Test a Model on New Images\n",
    "\n",
    "To give yourself more insight into how your model is working, download at least five pictures of German traffic signs from the web and use your model to predict the traffic sign type.\n",
    "\n",
    "You may find `signnames.csv` useful as it contains mappings from the class id (integer) to the actual sign name."
   ]
  },
  {
   "cell_type": "markdown",
   "metadata": {},
   "source": [
    "### Load and Output the Images"
   ]
  },
  {
   "cell_type": "code",
   "execution_count": null,
   "metadata": {
    "collapsed": true
   },
   "outputs": [],
   "source": [
    "### Load the images and plot them here.\n",
    "### Feel free to use as many code cells as needed."
   ]
  },
  {
   "cell_type": "markdown",
   "metadata": {},
   "source": [
    "### Predict the Sign Type for Each Image"
   ]
  },
  {
   "cell_type": "code",
   "execution_count": null,
   "metadata": {
    "collapsed": true
   },
   "outputs": [],
   "source": [
    "### Run the predictions here and use the model to output the prediction for each image.\n",
    "### Make sure to pre-process the images with the same pre-processing pipeline used earlier.\n",
    "### Feel free to use as many code cells as needed."
   ]
  },
  {
   "cell_type": "markdown",
   "metadata": {},
   "source": [
    "### Analyze Performance"
   ]
  },
  {
   "cell_type": "code",
   "execution_count": null,
   "metadata": {
    "collapsed": true
   },
   "outputs": [],
   "source": [
    "### Calculate the accuracy for these 5 new images. \n",
    "### For example, if the model predicted 1 out of 5 signs correctly, it's 20% accurate on these new images."
   ]
  },
  {
   "cell_type": "markdown",
   "metadata": {},
   "source": [
    "### Output Top 5 Softmax Probabilities For Each Image Found on the Web"
   ]
  },
  {
   "cell_type": "markdown",
   "metadata": {},
   "source": [
    "For each of the new images, print out the model's softmax probabilities to show the **certainty** of the model's predictions (limit the output to the top 5 probabilities for each image). [`tf.nn.top_k`](https://www.tensorflow.org/versions/r0.12/api_docs/python/nn.html#top_k) could prove helpful here. \n",
    "\n",
    "The example below demonstrates how tf.nn.top_k can be used to find the top k predictions for each image.\n",
    "\n",
    "`tf.nn.top_k` will return the values and indices (class ids) of the top k predictions. So if k=3, for each sign, it'll return the 3 largest probabilities (out of a possible 43) and the correspoding class ids.\n",
    "\n",
    "Take this numpy array as an example. The values in the array represent predictions. The array contains softmax probabilities for five candidate images with six possible classes. `tk.nn.top_k` is used to choose the three classes with the highest probability:\n",
    "\n",
    "```\n",
    "# (5, 6) array\n",
    "a = np.array([[ 0.24879643,  0.07032244,  0.12641572,  0.34763842,  0.07893497,\n",
    "         0.12789202],\n",
    "       [ 0.28086119,  0.27569815,  0.08594638,  0.0178669 ,  0.18063401,\n",
    "         0.15899337],\n",
    "       [ 0.26076848,  0.23664738,  0.08020603,  0.07001922,  0.1134371 ,\n",
    "         0.23892179],\n",
    "       [ 0.11943333,  0.29198961,  0.02605103,  0.26234032,  0.1351348 ,\n",
    "         0.16505091],\n",
    "       [ 0.09561176,  0.34396535,  0.0643941 ,  0.16240774,  0.24206137,\n",
    "         0.09155967]])\n",
    "```\n",
    "\n",
    "Running it through `sess.run(tf.nn.top_k(tf.constant(a), k=3))` produces:\n",
    "\n",
    "```\n",
    "TopKV2(values=array([[ 0.34763842,  0.24879643,  0.12789202],\n",
    "       [ 0.28086119,  0.27569815,  0.18063401],\n",
    "       [ 0.26076848,  0.23892179,  0.23664738],\n",
    "       [ 0.29198961,  0.26234032,  0.16505091],\n",
    "       [ 0.34396535,  0.24206137,  0.16240774]]), indices=array([[3, 0, 5],\n",
    "       [0, 1, 4],\n",
    "       [0, 5, 1],\n",
    "       [1, 3, 5],\n",
    "       [1, 4, 3]], dtype=int32))\n",
    "```\n",
    "\n",
    "Looking just at the first row we get `[ 0.34763842,  0.24879643,  0.12789202]`, you can confirm these are the 3 largest probabilities in `a`. You'll also notice `[3, 0, 5]` are the corresponding indices."
   ]
  },
  {
   "cell_type": "code",
   "execution_count": null,
   "metadata": {
    "collapsed": true
   },
   "outputs": [],
   "source": [
    "### Print out the top five softmax probabilities for the predictions on the German traffic sign images found on the web. \n",
    "### Feel free to use as many code cells as needed."
   ]
  },
  {
   "cell_type": "markdown",
   "metadata": {},
   "source": [
    "> **Note**: Once you have completed all of the code implementations, you need to finalize your work by exporting the IPython Notebook as an HTML document. Before exporting the notebook to html, all of the code cells need to have been run. You can then export the notebook by using the menu above and navigating to  \\n\",\n",
    "    \"**File -> Download as -> HTML (.html)**. Include the finished document along with this notebook as your submission. "
   ]
  },
  {
   "cell_type": "code",
   "execution_count": null,
   "metadata": {
    "collapsed": true
   },
   "outputs": [],
   "source": [
    "# Close the current session.\n",
    "sess.close()"
   ]
  },
  {
   "cell_type": "raw",
   "metadata": {},
   "source": [
    "### Project Writeup\n",
    "\n",
    "Once you have completed the code implementation, document your results in a project writeup using this [template](https://github.com/udacity/CarND-Traffic-Sign-Classifier-Project/blob/master/writeup_template.md) as a guide. The writeup can be in a markdown or pdf file. "
   ]
  }
 ],
 "metadata": {
  "anaconda-cloud": {},
  "kernelspec": {
   "display_name": "Python 3",
   "language": "python",
   "name": "python3"
  },
  "language_info": {
   "codemirror_mode": {
    "name": "ipython",
    "version": 3
   },
   "file_extension": ".py",
   "mimetype": "text/x-python",
   "name": "python",
   "nbconvert_exporter": "python",
   "pygments_lexer": "ipython3",
   "version": "3.5.2"
  },
  "widgets": {
   "state": {},
   "version": "1.1.2"
  }
 },
 "nbformat": 4,
 "nbformat_minor": 1
}
